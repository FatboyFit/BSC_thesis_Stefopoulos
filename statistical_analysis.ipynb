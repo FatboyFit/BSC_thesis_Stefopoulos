{
 "cells": [
  {
   "cell_type": "code",
   "execution_count": 19,
   "metadata": {},
   "outputs": [],
   "source": [
    "import pandas as pd\n",
    "import numpy as np\n",
    "from scipy.stats import f_oneway\n",
    "from statsmodels.formula.api import ols\n",
    "from statsmodels.stats.anova import anova_lm\n",
    "from statsmodels.stats.multicomp import pairwise_tukeyhsd"
   ]
  },
  {
   "cell_type": "code",
   "execution_count": 20,
   "metadata": {},
   "outputs": [],
   "source": [
    "# Read data \n",
    "df = pd.read_csv('topic_dis.csv')"
   ]
  },
  {
   "cell_type": "code",
   "execution_count": 21,
   "metadata": {},
   "outputs": [],
   "source": [
    "def convert_string_to_list(string):\n",
    "    string = string.replace(\"[\", \"\").replace(\"]\", \"\")\n",
    "    string = \" \".join(string.split())\n",
    "    string = string.split(\" \")\n",
    "    string = [float(i) for i in string]\n",
    "    return string\n",
    "\n",
    "df['topic_distribution'] = df['topic_distribution'].apply(convert_string_to_list)"
   ]
  },
  {
   "cell_type": "code",
   "execution_count": 23,
   "metadata": {},
   "outputs": [],
   "source": [
    "# Filter data wrt to \"journal\" column distinct values\n",
    "df_ny_times = df[df[\"journal\"] == \"NY Times\"]\n",
    "df_jerusalem = df[df[\"journal\"] == \"Jerusalem\"]\n",
    "df_guardian = df[df[\"journal\"] == \"Files(The Guardian_ UK)\"] \n",
    "df_asharq_alawsat = df[df[\"journal\"] == \"Asharq Alawsat \"]"
   ]
  },
  {
   "cell_type": "code",
   "execution_count": 24,
   "metadata": {},
   "outputs": [],
   "source": [
    "# Function to convert string list to list of integers\n",
    "topic_distribution_ny_times = df_ny_times[\"topic_distribution\"].to_list()\n",
    "topic_distribution_jerusalem = df_jerusalem[\"topic_distribution\"].to_list()\n",
    "topic_distribution_guardian = df_guardian[\"topic_distribution\"].to_list()\n",
    "topic_distribution_asharq_alawsat = df_asharq_alawsat[\"topic_distribution\"].to_list()"
   ]
  },
  {
   "cell_type": "code",
   "execution_count": 25,
   "metadata": {},
   "outputs": [
    {
     "name": "stdout",
     "output_type": "stream",
     "text": [
      "Topic 1: F-value:  13.103472887745056 P-value:  3.628524576174375e-08\n",
      "Topic 2: F-value:  43.541369016140884 P-value:  2.8918653134817846e-24\n",
      "Topic 3: F-value:  13.028132595527358 P-value:  4.0106820740696105e-08\n"
     ]
    }
   ],
   "source": [
    "# Given the four samples of topic distributions, run anova test for each of the three topics in the list of topics\n",
    "from scipy.stats import f_oneway\n",
    "\n",
    "# Topic 1\n",
    "topic_1_ny_times = [i[0] for i in topic_distribution_ny_times]\n",
    "topic_1_jerusalem = [i[0] for i in topic_distribution_jerusalem]\n",
    "topic_1_guardian = [i[0] for i in topic_distribution_guardian]\n",
    "topic_1_asharq_alawsat = [i[0] for i in topic_distribution_asharq_alawsat]\n",
    "\n",
    "f_value_topic_1, p_value_topic_1 = f_oneway(topic_1_ny_times, topic_1_jerusalem, topic_1_guardian, topic_1_asharq_alawsat)\n",
    "\n",
    "# Topic 2\n",
    "topic_2_ny_times = [i[1] for i in topic_distribution_ny_times]\n",
    "topic_2_jerusalem = [i[1] for i in topic_distribution_jerusalem]\n",
    "topic_2_guardian = [i[1] for i in topic_distribution_guardian]\n",
    "topic_2_asharq_alawsat = [i[1] for i in topic_distribution_asharq_alawsat]\n",
    "\n",
    "f_value_topic_2, p_value_topic_2 = f_oneway(topic_2_ny_times, topic_2_jerusalem, topic_2_guardian, topic_2_asharq_alawsat)\n",
    "\n",
    "# Topic 3\n",
    "topic_3_ny_times = [i[2] for i in topic_distribution_ny_times]\n",
    "topic_3_jerusalem = [i[2] for i in topic_distribution_jerusalem]\n",
    "topic_3_guardian = [i[2] for i in topic_distribution_guardian]\n",
    "topic_3_asharq_alawsat = [i[2] for i in topic_distribution_asharq_alawsat]\n",
    "\n",
    "f_value_topic_3, p_value_topic_3 = f_oneway(topic_3_ny_times, topic_3_jerusalem, topic_3_guardian, topic_3_asharq_alawsat)\n",
    "\n",
    "print(\"Topic 1: F-value: \", f_value_topic_1, \"P-value: \", p_value_topic_1)\n",
    "print(\"Topic 2: F-value: \", f_value_topic_2, \"P-value: \", p_value_topic_2)\n",
    "print(\"Topic 3: F-value: \", f_value_topic_3, \"P-value: \", p_value_topic_3)"
   ]
  },
  {
   "cell_type": "code",
   "execution_count": 26,
   "metadata": {},
   "outputs": [
    {
     "data": {
      "text/html": [
       "<div>\n",
       "<style scoped>\n",
       "    .dataframe tbody tr th:only-of-type {\n",
       "        vertical-align: middle;\n",
       "    }\n",
       "\n",
       "    .dataframe tbody tr th {\n",
       "        vertical-align: top;\n",
       "    }\n",
       "\n",
       "    .dataframe thead th {\n",
       "        text-align: right;\n",
       "    }\n",
       "</style>\n",
       "<table border=\"1\" class=\"dataframe\">\n",
       "  <thead>\n",
       "    <tr style=\"text-align: right;\">\n",
       "      <th></th>\n",
       "      <th>Topic</th>\n",
       "      <th>F-value</th>\n",
       "      <th>P-value</th>\n",
       "      <th>Is statistically significant</th>\n",
       "      <th>Mean NY Times</th>\n",
       "      <th>Mean Jerusalem</th>\n",
       "      <th>Mean Guardian</th>\n",
       "      <th>Mean Asharq Alawsat</th>\n",
       "    </tr>\n",
       "  </thead>\n",
       "  <tbody>\n",
       "    <tr>\n",
       "      <th>0</th>\n",
       "      <td>Humanitarianism</td>\n",
       "      <td>13.103473</td>\n",
       "      <td>3.628525e-08</td>\n",
       "      <td>True</td>\n",
       "      <td>0.356920</td>\n",
       "      <td>0.228443</td>\n",
       "      <td>0.394785</td>\n",
       "      <td>0.445626</td>\n",
       "    </tr>\n",
       "    <tr>\n",
       "      <th>1</th>\n",
       "      <td>Politics</td>\n",
       "      <td>43.541369</td>\n",
       "      <td>2.891865e-24</td>\n",
       "      <td>True</td>\n",
       "      <td>0.358665</td>\n",
       "      <td>0.641296</td>\n",
       "      <td>0.421414</td>\n",
       "      <td>0.257064</td>\n",
       "    </tr>\n",
       "    <tr>\n",
       "      <th>2</th>\n",
       "      <td>Military</td>\n",
       "      <td>13.028133</td>\n",
       "      <td>4.010682e-08</td>\n",
       "      <td>True</td>\n",
       "      <td>0.284415</td>\n",
       "      <td>0.130261</td>\n",
       "      <td>0.183801</td>\n",
       "      <td>0.297310</td>\n",
       "    </tr>\n",
       "  </tbody>\n",
       "</table>\n",
       "</div>"
      ],
      "text/plain": [
       "             Topic    F-value       P-value  Is statistically significant  \\\n",
       "0  Humanitarianism  13.103473  3.628525e-08                          True   \n",
       "1         Politics  43.541369  2.891865e-24                          True   \n",
       "2         Military  13.028133  4.010682e-08                          True   \n",
       "\n",
       "   Mean NY Times  Mean Jerusalem  Mean Guardian  Mean Asharq Alawsat  \n",
       "0       0.356920        0.228443       0.394785             0.445626  \n",
       "1       0.358665        0.641296       0.421414             0.257064  \n",
       "2       0.284415        0.130261       0.183801             0.297310  "
      ]
     },
     "metadata": {},
     "output_type": "display_data"
    }
   ],
   "source": [
    "import numpy as np\n",
    "from scipy.stats import f_oneway\n",
    "import pandas as pd\n",
    "\n",
    "def calculate_means(topic_distribution, index):\n",
    "    return [\n",
    "        np.mean([i[index] for i in topic_distribution_ny_times]),\n",
    "        np.mean([i[index] for i in topic_distribution_jerusalem]),\n",
    "        np.mean([i[index] for i in topic_distribution_guardian]),\n",
    "        np.mean([i[index] for i in topic_distribution_asharq_alawsat])\n",
    "    ]\n",
    "\n",
    "def run_anova(topic_distributions, index):\n",
    "    return f_oneway(\n",
    "        [i[index] for i in topic_distribution_ny_times],\n",
    "        [i[index] for i in topic_distribution_jerusalem],\n",
    "        [i[index] for i in topic_distribution_guardian],\n",
    "        [i[index] for i in topic_distribution_asharq_alawsat]\n",
    "    )\n",
    "\n",
    "def generate_results_table():\n",
    "    topics = ['Humanitarianism', 'Politics', 'Military']\n",
    "    f_values = []\n",
    "    p_values = []\n",
    "    means_ny_times = []\n",
    "    means_jerusalem = []\n",
    "    means_guardian = []\n",
    "    means_asharq_alawsat = []\n",
    "    is_statistically_significant = []\n",
    "\n",
    "    for index in range(3):\n",
    "        f_value, p_value = run_anova(topic_distributions, index)\n",
    "        means = calculate_means(topic_distributions, index)\n",
    "        \n",
    "        f_values.append(f_value)\n",
    "        p_values.append(p_value)\n",
    "        means_ny_times.append(means[0])\n",
    "        means_jerusalem.append(means[1])\n",
    "        means_guardian.append(means[2])\n",
    "        means_asharq_alawsat.append(means[3])\n",
    "        is_statistically_significant.append(p_value < 0.05)\n",
    "    \n",
    "    data = {\n",
    "        'Topic': topics,\n",
    "        'F-value': f_values,\n",
    "        'P-value': p_values,\n",
    "        'Is statistically significant': is_statistically_significant,\n",
    "        'Mean NY Times': means_ny_times,\n",
    "        'Mean Jerusalem': means_jerusalem,\n",
    "        'Mean Guardian': means_guardian,\n",
    "        'Mean Asharq Alawsat': means_asharq_alawsat\n",
    "\n",
    "    }\n",
    "\n",
    "    df = pd.DataFrame(data)\n",
    "    return df\n",
    "\n",
    "topic_distributions = [topic_distribution_ny_times, topic_distribution_jerusalem, topic_distribution_guardian, topic_distribution_asharq_alawsat]\n",
    "\n",
    "# Generate the results table\n",
    "df = generate_results_table()\n",
    "display(df)"
   ]
  },
  {
   "cell_type": "markdown",
   "metadata": {},
   "source": [
    "# Post-Hoc Analysis"
   ]
  },
  {
   "cell_type": "code",
   "execution_count": 39,
   "metadata": {},
   "outputs": [
    {
     "name": "stdout",
     "output_type": "stream",
     "text": [
      "\n",
      "Tukey HSD results for Humanitarianism:\n",
      "      Multiple Comparison of Means - Tukey HSD, FWER=0.05      \n",
      "===============================================================\n",
      "    group1       group2  meandiff p-adj   lower   upper  reject\n",
      "---------------------------------------------------------------\n",
      "Asharq Alawsat  Guardian  -0.0508 0.5309 -0.1479  0.0463  False\n",
      "Asharq Alawsat Jerusalem  -0.2172    0.0 -0.3134 -0.1209   True\n",
      "Asharq Alawsat  NY Times  -0.0887 0.0802 -0.1844   0.007  False\n",
      "      Guardian Jerusalem  -0.1663    0.0  -0.257 -0.0757   True\n",
      "      Guardian  NY Times  -0.0379 0.6988 -0.1279  0.0522  False\n",
      "     Jerusalem  NY Times   0.1285 0.0013  0.0393  0.2176   True\n",
      "---------------------------------------------------------------\n"
     ]
    }
   ],
   "source": [
    "from statsmodels.stats.multicomp import pairwise_tukeyhsd\n",
    "\n",
    "# Function to run Tukey HSD test for a given topic\n",
    "def run_tukey_hsd_for_topic(topic):\n",
    "    topics = ['Humanitarianism', 'Politics', 'Military']\n",
    "    topic_index = topics.index(topic)\n",
    "    data = []\n",
    "    labels = []\n",
    "    journals = [\"NY Times\", \"Jerusalem\", \"Guardian\", \"Asharq Alawsat\"]\n",
    "    \n",
    "    for j, journal_data in enumerate(topic_distributions):\n",
    "        for value in [i[topic_index] for i in journal_data]:\n",
    "            data.append(value)\n",
    "            labels.append(journals[j])\n",
    "    \n",
    "    tukey_result = pairwise_tukeyhsd(endog=data, groups=labels, alpha=0.05)\n",
    "    return tukey_result"
   ]
  },
  {
   "cell_type": "code",
   "execution_count": null,
   "metadata": {},
   "outputs": [],
   "source": [
    "# Post-hoc \"Humanitarianism\"\n",
    "topic = 'Humanitarianism'\n",
    "tukey_result = run_tukey_hsd_for_topic(topic)\n",
    "print(f\"\\nTukey HSD results for {topic}:\")\n",
    "print(tukey_result)\n",
    "\n",
    "# Post-hoc \"Politics\"\n",
    "topic = 'Politics'\n",
    "tukey_result = run_tukey_hsd_for_topic(topic)\n",
    "print(f\"\\nTukey HSD results for {topic}:\")\n",
    "print(tukey_result)\n",
    "\n",
    "# Post-hoc \"Military\"\n",
    "topic = 'Military'\n",
    "tukey_result = run_tukey_hsd_for_topic(topic)\n",
    "print(f\"\\nTukey HSD results for {topic}:\")\n",
    "print(tukey_result)"
   ]
  }
 ],
 "metadata": {
  "kernelspec": {
   "display_name": "base",
   "language": "python",
   "name": "python3"
  },
  "language_info": {
   "codemirror_mode": {
    "name": "ipython",
    "version": 3
   },
   "file_extension": ".py",
   "mimetype": "text/x-python",
   "name": "python",
   "nbconvert_exporter": "python",
   "pygments_lexer": "ipython3",
   "version": "3.11.7"
  },
  "orig_nbformat": 4
 },
 "nbformat": 4,
 "nbformat_minor": 2
}
